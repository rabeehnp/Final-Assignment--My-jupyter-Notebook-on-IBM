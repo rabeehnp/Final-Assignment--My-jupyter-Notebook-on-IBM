{
 "cells": [
  {
   "cell_type": "markdown",
   "id": "269a0be1",
   "metadata": {},
   "source": [
    "# My Jupyter Notebook on IBM Watson Studio\n",
    "\n",
    "\n"
   ]
  },
  {
   "cell_type": "markdown",
   "id": "a07ed139",
   "metadata": {},
   "source": [
    "__MUHAMMED RABEEH__\n"
   ]
  },
  {
   "cell_type": "markdown",
   "id": "39f9e68d",
   "metadata": {},
   "source": [
    "Data scientist"
   ]
  },
  {
   "cell_type": "markdown",
   "id": "c0799fe9",
   "metadata": {},
   "source": [
    "_I am interested in data science because to help business by solving their problems_"
   ]
  },
  {
   "cell_type": "markdown",
   "id": "f8ef8703",
   "metadata": {},
   "source": [
    "### The below code multiplies 99 by 11 "
   ]
  },
  {
   "cell_type": "code",
   "execution_count": 9,
   "id": "e685fdec",
   "metadata": {},
   "outputs": [
    {
     "name": "stdout",
     "output_type": "stream",
     "text": [
      "1089\n"
     ]
    }
   ],
   "source": [
    "A = 99 * 11\n",
    "print(A)"
   ]
  },
  {
   "attachments": {
    "download.png": {
     "image/png": "[encoded data removed]"
    }
   },
   "cell_type": "markdown",
   "id": "45c6cd0f",
   "metadata": {},
   "source": [
    "Interested Areas:\n",
    "***\n",
    "1. Machine Learning\n",
    "2. Data Analytics\n",
    "3. Cloud\n",
    "\n",
    "***\n",
    "![download.png](attachment:download.png)"
   ]
  },
  {
   "cell_type": "code",
   "execution_count": null,
   "id": "c38a4cb4",
   "metadata": {},
   "outputs": [],
   "source": []
  }
 ],
 "metadata": {
  "kernelspec": {
   "display_name": "Python 3",
   "language": "python",
   "name": "python3"
  },
  "language_info": {
   "codemirror_mode": {
    "name": "ipython",
    "version": 3
   },
   "file_extension": ".py",
   "mimetype": "text/x-python",
   "name": "python",
   "nbconvert_exporter": "python",
   "pygments_lexer": "ipython3",
   "version": "3.8.8"
  }
 },
 "nbformat": 4,
 "nbformat_minor": 5
}
